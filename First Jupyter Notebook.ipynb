{
    "cells": [
        {
            "cell_type": "markdown",
            "metadata": {},
            "source": "FIRST JUPYTER NOTEBOOK"
        },
        {
            "cell_type": "code",
            "execution_count": 1,
            "metadata": {},
            "outputs": [
                {
                    "data": {
                        "text/html": "<div>\n<style scoped>\n    .dataframe tbody tr th:only-of-type {\n        vertical-align: middle;\n    }\n\n    .dataframe tbody tr th {\n        vertical-align: top;\n    }\n\n    .dataframe thead th {\n        text-align: right;\n    }\n</style>\n<table border=\"1\" class=\"dataframe\">\n  <thead>\n    <tr style=\"text-align: right;\">\n      <th></th>\n      <th>Unnamed: 0</th>\n      <th>age</th>\n      <th>sex</th>\n      <th>year</th>\n      <th>suicides</th>\n    </tr>\n  </thead>\n  <tbody>\n    <tr>\n      <th>0</th>\n      <td>1</td>\n      <td>15-24 years</td>\n      <td>male</td>\n      <td>1987</td>\n      <td>12386</td>\n    </tr>\n    <tr>\n      <th>1</th>\n      <td>2</td>\n      <td>35-54 years</td>\n      <td>male</td>\n      <td>1987</td>\n      <td>30098</td>\n    </tr>\n    <tr>\n      <th>2</th>\n      <td>3</td>\n      <td>15-24 years</td>\n      <td>female</td>\n      <td>1987</td>\n      <td>4046</td>\n    </tr>\n    <tr>\n      <th>3</th>\n      <td>4</td>\n      <td>75+ years</td>\n      <td>male</td>\n      <td>1987</td>\n      <td>9206</td>\n    </tr>\n    <tr>\n      <th>4</th>\n      <td>5</td>\n      <td>25-34 years</td>\n      <td>male</td>\n      <td>1987</td>\n      <td>17386</td>\n    </tr>\n  </tbody>\n</table>\n</div>",
                        "text/plain": "   Unnamed: 0          age     sex  year  suicides\n0           1  15-24 years    male  1987     12386\n1           2  35-54 years    male  1987     30098\n2           3  15-24 years  female  1987      4046\n3           4    75+ years    male  1987      9206\n4           5  25-34 years    male  1987     17386"
                    },
                    "execution_count": 1,
                    "metadata": {},
                    "output_type": "execute_result"
                }
            ],
            "source": "# The code was removed by Watson Studio for sharing."
        },
        {
            "cell_type": "code",
            "execution_count": null,
            "metadata": {},
            "outputs": [],
            "source": ""
        }
    ],
    "metadata": {
        "kernelspec": {
            "display_name": "Python 3.6",
            "language": "python",
            "name": "python3"
        },
        "language_info": {
            "codemirror_mode": {
                "name": "ipython",
                "version": 3
            },
            "file_extension": ".py",
            "mimetype": "text/x-python",
            "name": "python",
            "nbconvert_exporter": "python",
            "pygments_lexer": "ipython3",
            "version": "3.6.9"
        }
    },
    "nbformat": 4,
    "nbformat_minor": 1
}